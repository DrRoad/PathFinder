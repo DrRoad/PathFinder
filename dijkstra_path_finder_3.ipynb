{
 "cells": [
  {
   "cell_type": "markdown",
   "metadata": {
    "deletable": true,
    "editable": true
   },
   "source": [
    "# Heads-Up\n",
    "\n",
    "In this notebook, we investigate the effect of making the model more informed,\n",
    "i.e., the model is allowed to look many steps ahead.\n",
    "\n",
    "However, some constraints will be put on the selected second, third... neighbors.\n",
    "For instance, only the closest two or three (to be made flexible) neighbors will\n",
    "be selected. The closeness is based on both cos-distance and geo-distance."
   ]
  },
  {
   "cell_type": "markdown",
   "metadata": {
    "deletable": true,
    "editable": true
   },
   "source": [
    "# Some numbers\n",
    "\n",
    "The length of each sample is:  \n",
    "\n",
    "max_degree * (w ^ d - 1) + 4  \n",
    "\n",
    "w is the search width at each step and d is the search depth.\n",
    "A reasonable maximum search depth when w = 2 is around 13."
   ]
  },
  {
   "cell_type": "code",
   "execution_count": null,
   "metadata": {
    "collapsed": true,
    "deletable": true,
    "editable": true
   },
   "outputs": [],
   "source": [
    "import networkx as nx\n",
    "import matplotlib.pyplot as plt\n",
    "import random\n",
    "import numpy as np\n",
    "import mxnet as mx\n",
    "import logging\n",
    "from sklearn.metrics import accuracy_score\n",
    "from utils import plot_g"
   ]
  },
  {
   "cell_type": "code",
   "execution_count": null,
   "metadata": {
    "collapsed": false,
    "deletable": true,
    "editable": true
   },
   "outputs": [],
   "source": [
    "NUM_NODE = 100\n",
    "WEIGHT_MIN = .5\n",
    "WEIGHT_MAX = 1."
   ]
  },
  {
   "cell_type": "code",
   "execution_count": null,
   "metadata": {
    "collapsed": false,
    "deletable": true,
    "editable": true
   },
   "outputs": [],
   "source": [
    "def calc_euclidean_dist(G, tmp_node, node):\n",
    "    \n",
    "    p_1 = np.array([G.nodes[tmp_node]['x'], G.nodes[tmp_node]['y']])\n",
    "    p_2 = np.array([G.nodes[node]['x'], G.nodes[node]['y']])\n",
    "    return np.sqrt(np.sum((p_1 - p_2)**2))\n",
    "\n",
    "def generate_low_degree_g(node_size=100, min_out_degree=2, max_out_degree=4, weight_min=WEIGHT_MIN, weight_max=WEIGHT_MAX):\n",
    "    \n",
    "    G = nx.Graph()\n",
    "    \n",
    "    grid_size = 1000\n",
    "    euclidean_coords = np.linspace(0.01, 1.0, num=grid_size, endpoint=False)\n",
    "    coords_indices = list(range(grid_size))\n",
    "    \n",
    "    random.shuffle(coords_indices)\n",
    "    x_coords = euclidean_coords[coords_indices][:node_size]\n",
    "#     print(x_coords)\n",
    "    random.shuffle(coords_indices)\n",
    "    y_coords = euclidean_coords[coords_indices][:node_size]\n",
    "#     print(y_coords)\n",
    "    \n",
    "    # Add coordinates to nodes\n",
    "    for node, coord in enumerate(zip(x_coords, y_coords)):\n",
    "#         print(node, coord[0], coord[1])\n",
    "        G.add_node(node, x=coord[0], y=coord[1])\n",
    "    \n",
    "    for node in G.nodes:\n",
    "        \n",
    "        tmp_nodes = list(G.nodes)\n",
    "        tmp_nodes.remove(node)\n",
    "        node_dist = map(lambda tmp_node: (tmp_node, calc_euclidean_dist(G, tmp_node, node)), tmp_nodes)\n",
    "        node_dist = sorted(node_dist, key=lambda d:d[1])\n",
    "        \n",
    "        num_of_neighbors = random.randint(min_out_degree, max_out_degree)\n",
    "#         print(node, out_neighbors)\n",
    "        \n",
    "#         G.add_edges_from(map(lambda d:(node, d), out_neighbors))\n",
    "        \n",
    "        for tmp_node in node_dist:\n",
    "\n",
    "            if G.degree(tmp_node[0]) >= max_out_degree \\\n",
    "                or G.degree(node) >= num_of_neighbors:\n",
    "                # This node has maximum number of neighbors already\n",
    "                continue\n",
    "            \n",
    "            weight = random.uniform(weight_min, weight_max)\n",
    "            geo_dist = calc_euclidean_dist(G, tmp_node[0], node)\n",
    "            \n",
    "            G.add_edge(node, tmp_node[0], weight=weight * geo_dist)\n",
    "    \n",
    "    # Add centrality to edges\n",
    "    edge_centrality = nx.edge_betweenness_centrality(G, \\\n",
    "                                                     k=G.number_of_nodes(), \\\n",
    "                                                     weight='weight')\n",
    "    assert len(edge_centrality) == G.number_of_edges()\n",
    "    \n",
    "    for edge_data in G.edges.data():\n",
    "        edge_data[2]['centrality'] = edge_centrality[(edge_data[0], edge_data[1])]\n",
    "        \n",
    "    return G"
   ]
  },
  {
   "cell_type": "code",
   "execution_count": null,
   "metadata": {
    "collapsed": false,
    "deletable": true,
    "editable": true
   },
   "outputs": [],
   "source": [
    "G = generate_low_degree_g(node_size=20)\n",
    "max_degree = max(G.degree, key=lambda d: d[1])[1]\n",
    "min_degree = min(G.degree, key=lambda d: d[1])[1]\n",
    "print(max_degree)\n",
    "print(min_degree)\n",
    "print(G.number_of_nodes())\n",
    "print(G.number_of_edges())\n",
    "plot_g(G)"
   ]
  },
  {
   "cell_type": "code",
   "execution_count": null,
   "metadata": {
    "collapsed": false,
    "deletable": true,
    "editable": true
   },
   "outputs": [],
   "source": [
    "def traverse_g_helper(G, parent_node, cur_node, step, depth):\n",
    "    \n",
    "    if step > depth:\n",
    "        return\n",
    "        \n",
    "    for edge in G.edges(cur_node):\n",
    "        \n",
    "        neighbor = edge[1]\n",
    "        if neighbor == parent_node:\n",
    "            continue\n",
    "        \n",
    "        print('Step %d: from %d to %d' % (step, cur_node, neighbor))\n",
    "        traverse_g_helper(G, cur_node, neighbor, step+1, depth)\n",
    "    \n",
    "def traverse_g(G, src, parent_node=-1, depth=3):\n",
    "    \n",
    "    traverse_g_helper(G, parent_node, src, 1, depth)"
   ]
  },
  {
   "cell_type": "code",
   "execution_count": null,
   "metadata": {
    "collapsed": true,
    "deletable": true,
    "editable": true
   },
   "outputs": [],
   "source": [
    "def calc_dot_dist(p1, p2):\n",
    "    return np.dot(p1, p2)\n",
    "\n",
    "def calc_geo_dist(p1, p2):\n",
    "\n",
    "    p_1 = np.array(p1)\n",
    "    p_2 = np.array(p2)\n",
    "\n",
    "    return np.sqrt(np.sum((p_1 - p_2)**2))\n",
    "\n",
    "def heuristic(node, dst):\n",
    "\n",
    "    x_src = G.nodes[src]['x']\n",
    "    y_src = G.nodes[src]['y']\n",
    "    x_dst = G.nodes[dst]['x']\n",
    "    y_dst = G.nodes[dst]['y']\n",
    "    x_node = G.nodes[node]['x']\n",
    "    y_node = G.nodes[node]['y']\n",
    "\n",
    "    dist_src_2_dst = calc_geo_dist((x_src, y_src), (x_dst, y_dst))\n",
    "    dot_src_2_node = calc_dot_dist((x_node-x_src, y_node-y_src), (x_dst-x_src, y_dst-y_src))\n",
    "    ret = dist_src_2_dst - (dot_src_2_node) / dist_src_2_dst\n",
    "\n",
    "    return ret\n",
    "\n",
    "def extract_path(prev, src, dst):\n",
    "    \n",
    "    path = []\n",
    "    u = dst\n",
    "\n",
    "    while prev[u] != src:\n",
    "        path.insert(0, u)\n",
    "        u = prev[u]\n",
    "        \n",
    "        if len(path) >= G.number_of_nodes():\n",
    "            break\n",
    "    \n",
    "    path.insert(0, u)\n",
    "    path.insert(0, src)\n",
    "    return path\n",
    "\n",
    "def bfs_beam_edges_path(G, src, dst):\n",
    "    \n",
    "    closeness = dict()\n",
    "    \n",
    "    for node in G.nodes():\n",
    "        if node == src:\n",
    "            continue\n",
    "\n",
    "        closeness[node] = -heuristic(node, dst)\n",
    "    \n",
    "    prev = [-1 for _ in range(G.number_of_nodes())]\n",
    "    \n",
    "    for u, v in nx.bfs_beam_edges(G, src, value=closeness.get, width=2):\n",
    "        prev[v] = u\n",
    "\n",
    "    return extract_path(prev, src, dst)"
   ]
  },
  {
   "cell_type": "code",
   "execution_count": null,
   "metadata": {
    "collapsed": false,
    "deletable": true,
    "editable": true
   },
   "outputs": [],
   "source": [
    "src, dst = 7, 18\n",
    "\n",
    "print(bfs_beam_edges_path(G, src, dst))\n",
    "print(nx.dijkstra_path(G, src, dst))\n",
    "print(nx.astar_path(G, src, dst, heuristic=heuristic))"
   ]
  },
  {
   "cell_type": "code",
   "execution_count": null,
   "metadata": {
    "collapsed": false,
    "deletable": true,
    "editable": true
   },
   "outputs": [],
   "source": [
    "for src in G.nodes():\n",
    "    for dst in G.nodes():\n",
    "        \n",
    "        if src == dst:\n",
    "            continue\n",
    "        \n",
    "        print('a star path:', nx.astar_path(G, src, dst, heuristic=heuristic))\n",
    "        print('dijkstra path:', nx.dijkstra_path(G, src, dst, weight='weight'))\n",
    "        print('beam search path:', bfs_beam_edges_path(G, src, dst))\n",
    "        print('')"
   ]
  },
  {
   "cell_type": "code",
   "execution_count": null,
   "metadata": {
    "collapsed": true,
    "deletable": true,
    "editable": true
   },
   "outputs": [],
   "source": []
  }
 ],
 "metadata": {
  "kernelspec": {
   "display_name": "Python 2",
   "language": "python",
   "name": "python2"
  },
  "language_info": {
   "codemirror_mode": {
    "name": "ipython",
    "version": 2
   },
   "file_extension": ".py",
   "mimetype": "text/x-python",
   "name": "python",
   "nbconvert_exporter": "python",
   "pygments_lexer": "ipython2",
   "version": "2.7.14"
  }
 },
 "nbformat": 4,
 "nbformat_minor": 2
}
