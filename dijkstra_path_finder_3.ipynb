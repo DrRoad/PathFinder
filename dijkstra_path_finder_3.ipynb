{
 "cells": [
  {
   "cell_type": "markdown",
   "metadata": {},
   "source": [
    "# Heads-up\n",
    "\n",
    "In this notebook, we investigate the effect of making the model more informed,\n",
    "i.e., the model is allowed to look many steps ahead.\n",
    "\n",
    "However, some constraints will be put on the selected second, third... neighbors.\n",
    "For instance, only the closest two or three (to be made flexible) neighbors will\n",
    "be selected. The closeness is based on both cos-distance and geo-distance."
   ]
  },
  {
   "cell_type": "code",
   "execution_count": null,
   "metadata": {},
   "outputs": [],
   "source": []
  },
  {
   "cell_type": "code",
   "execution_count": null,
   "metadata": {},
   "outputs": [],
   "source": []
  }
 ],
 "metadata": {
  "kernelspec": {
   "display_name": "Python 2",
   "language": "python",
   "name": "python2"
  },
  "language_info": {
   "codemirror_mode": {
    "name": "ipython",
    "version": 2
   },
   "file_extension": ".py",
   "mimetype": "text/x-python",
   "name": "python",
   "nbconvert_exporter": "python",
   "pygments_lexer": "ipython2",
   "version": "2.7.12"
  }
 },
 "nbformat": 4,
 "nbformat_minor": 2
}
