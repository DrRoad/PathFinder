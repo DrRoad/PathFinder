{
 "cells": [
  {
   "cell_type": "code",
   "execution_count": null,
   "metadata": {},
   "outputs": [],
   "source": [
    "map_rand_to_range(rand_float, a, b) = (rand_float - a) / (b - a)\n",
    "\n",
    "map_vehicles_to_slowing_factor(num_vehicles) = 1 - e ^ (-0.01num_vehicles)\n",
    "\n",
    "function generate_weights_with_factors(edge_len, speed_limit;\n",
    "                                        bad_weather=false, traffic_light=false,\n",
    "                                        num_vehicles=0)\n",
    "    # Units\n",
    "    # edge_len: meters\n",
    "    # speed_limit: m/s\n",
    "    # Assume that bad_weather slows a vehicle by 30% - 50%;\n",
    "    # Traffic light increases the edge weights by 10% - 30%;\n",
    "    # so is number of vehicles on the edge;\n",
    "    \n",
    "    weight = edge_len / speed_limit\n",
    "    \n",
    "    traffic_light && (weight *= (1 + map_rand_to_range(rand(), 0.1, 0.3)))\n",
    "    \n",
    "    bad_weather && (weight *= (1 + map_rand_to_range(rand(), 0.3, 0.5)))\n",
    "    \n",
    "    weight *= (1 + map_vehicles_to_slowing_factor(num_vehicles))\n",
    "    \n",
    "    return weight\n",
    "end"
   ]
  },
  {
   "cell_type": "code",
   "execution_count": null,
   "metadata": {},
   "outputs": [],
   "source": [
    "map_vehicles_to_slowing_factor(10)"
   ]
  }
 ],
 "metadata": {
  "kernelspec": {
   "display_name": "Julia 0.6.2",
   "language": "julia",
   "name": "julia-0.6"
  },
  "language_info": {
   "file_extension": ".jl",
   "mimetype": "application/julia",
   "name": "julia",
   "version": "0.6.2"
  }
 },
 "nbformat": 4,
 "nbformat_minor": 2
}
