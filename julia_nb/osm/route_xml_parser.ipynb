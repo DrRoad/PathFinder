{
 "cells": [
  {
   "cell_type": "code",
   "execution_count": 5,
   "metadata": {},
   "outputs": [],
   "source": [
    "using LibExpat"
   ]
  },
  {
   "cell_type": "markdown",
   "metadata": {},
   "source": [
    "### Read and parse the XML file"
   ]
  },
  {
   "cell_type": "code",
   "execution_count": 6,
   "metadata": {
    "scrolled": true
   },
   "outputs": [
    {
     "ename": "LoadError",
     "evalue": "\u001b[91mSystemError: opening file /Users/hitmann47/Desktop/osm_maps/map.rou.xml: No such file or directory\u001b[39m",
     "output_type": "error",
     "traceback": [
      "\u001b[91mSystemError: opening file /Users/hitmann47/Desktop/osm_maps/map.rou.xml: No such file or directory\u001b[39m",
      "",
      "Stacktrace:",
      " [1] \u001b[1m#systemerror#44\u001b[22m\u001b[22m at \u001b[1m./error.jl:64\u001b[22m\u001b[22m [inlined]",
      " [2] \u001b[1msystemerror\u001b[22m\u001b[22m\u001b[1m(\u001b[22m\u001b[22m::String, ::Bool\u001b[1m)\u001b[22m\u001b[22m at \u001b[1m./error.jl:64\u001b[22m\u001b[22m",
      " [3] \u001b[1mopen\u001b[22m\u001b[22m\u001b[1m(\u001b[22m\u001b[22m::String, ::Bool, ::Bool, ::Bool, ::Bool, ::Bool\u001b[1m)\u001b[22m\u001b[22m at \u001b[1m./iostream.jl:104\u001b[22m\u001b[22m",
      " [4] \u001b[1mopen\u001b[22m\u001b[22m\u001b[1m(\u001b[22m\u001b[22m::Base.#readstring, ::String\u001b[1m)\u001b[22m\u001b[22m at \u001b[1m./iostream.jl:150\u001b[22m\u001b[22m",
      " [5] \u001b[1mreadstring\u001b[22m\u001b[22m\u001b[1m(\u001b[22m\u001b[22m::String\u001b[1m)\u001b[22m\u001b[22m at \u001b[1m./io.jl:541\u001b[22m\u001b[22m",
      " [6] \u001b[1minclude_string\u001b[22m\u001b[22m\u001b[1m(\u001b[22m\u001b[22m::String, ::String\u001b[1m)\u001b[22m\u001b[22m at \u001b[1m./loading.jl:522\u001b[22m\u001b[22m"
     ]
    }
   ],
   "source": [
    "route_xml_path = \"/Users/hitmann47/Desktop/osm_maps/map.rou.xml\"\n",
    "\n",
    "xml_str = readstring(route_xml_path);\n",
    "etree = xp_parse(xml_str);\n",
    "\n",
    "routes = filter(e -> typeof(e) == LibExpat.ETree, etree.elements)\n",
    "routes = map(route -> filter(e -> typeof(e) == LibExpat.ETree, route.elements)[1], routes);"
   ]
  },
  {
   "cell_type": "code",
   "execution_count": 3,
   "metadata": {},
   "outputs": [
    {
     "data": {
      "text/plain": [
       "parse_each_egde_str (generic function with 1 method)"
      ]
     },
     "execution_count": 3,
     "metadata": {},
     "output_type": "execute_result"
    }
   ],
   "source": [
    "function parse_each_egde_str(edge_str)\n",
    "    \n",
    "    sign = '+'\n",
    "    edge_id_start = 1\n",
    "    \n",
    "    if edge_str[1] == '-'\n",
    "        sign = '-'\n",
    "        edge_id_start = 2\n",
    "    end\n",
    "    \n",
    "    hashtag_idx = find(d -> d == '#', edge_str)\n",
    "    if length(hashtag_idx) != 0\n",
    "        edge_id_end = hashtag_idx[1]\n",
    "    else\n",
    "        edge_id_end = length(edge_str)\n",
    "    end\n",
    "\n",
    "    return (sign, parse(edge_str[edge_id_start:edge_id_end]), parse(edge_str[edge_id_end+1:end]))\n",
    "end"
   ]
  },
  {
   "cell_type": "markdown",
   "metadata": {},
   "source": [
    "### Extract all routes"
   ]
  },
  {
   "cell_type": "code",
   "execution_count": 4,
   "metadata": {
    "scrolled": true
   },
   "outputs": [
    {
     "ename": "LoadError",
     "evalue": "\u001b[91mUndefVarError: routes not defined\u001b[39m",
     "output_type": "error",
     "traceback": [
      "\u001b[91mUndefVarError: routes not defined\u001b[39m",
      "",
      "Stacktrace:",
      " [1] \u001b[1minclude_string\u001b[22m\u001b[22m\u001b[1m(\u001b[22m\u001b[22m::String, ::String\u001b[1m)\u001b[22m\u001b[22m at \u001b[1m./loading.jl:522\u001b[22m\u001b[22m"
     ]
    }
   ],
   "source": [
    "paths = map(route -> map(s -> parse_each_egde_str(s), split(route.attr[\"edges\"], \" \")), routes);"
   ]
  },
  {
   "cell_type": "markdown",
   "metadata": {},
   "source": [
    "### Turn all route edges into nodes"
   ]
  },
  {
   "cell_type": "code",
   "execution_count": 7,
   "metadata": {},
   "outputs": [
    {
     "name": "stdout",
     "output_type": "stream",
     "text": [
      "getOSMData\n"
     ]
    },
    {
     "name": "stderr",
     "output_type": "stream",
     "text": [
      "\n",
      "WARNING: deprecated syntax \"typealias Styles @compat Union{Style,Dict{Int,Style}}\" at /home/hitmann/hitmann/PathFinder/julia_nb/osm/plot.jl:8.\n",
      "Use \"const Styles = @compat Union{Style,Dict{Int,Style}}\" instead.\n"
     ]
    },
    {
     "name": "stdout",
     "output_type": "stream",
     "text": [
      "  3.239480 seconds (8.83 M allocations: 400.190 MiB, 8.13% gc time)\n",
      "intersections\n",
      "  0.000420 seconds (2.50 k allocations: 263.438 KiB)\n",
      "roadways\n",
      "  0.029596 seconds (2.07 k allocations: 132.235 KiB)\n",
      "segmentHighways\n",
      "  0.670217 seconds (99.49 k allocations: 4.866 MiB, 2.46% gc time)\n",
      "createGraph\n",
      "  0.482749 seconds (202.99 k allocations: 8.237 MiB)\n",
      "  8.887158 seconds (9.97 M allocations: 458.324 MiB, 3.61% gc time)\n"
     ]
    }
   ],
   "source": [
    "using LightGraphs\n",
    "import LightGraphs.SimpleGraphs: SimpleEdge, SimpleDiGraph\n",
    "include(\"CreateOSMGraphs.jl\")\n",
    "using CreateOSMGraphs;\n",
    "include(\"utils.jl\")\n",
    "\n",
    "# osm_fnX= \"northern_stockholm.osm\"\n",
    "osm_fn = \"kista.osm\"\n",
    "@time graph, vprops, eprops, edgeDict, \n",
    "nodesLLA, highways, geohash2edgedict = CreateOSMGraphs.CreateOSMGraph(osm_fn);"
   ]
  },
  {
   "cell_type": "code",
   "execution_count": 8,
   "metadata": {},
   "outputs": [
    {
     "data": {
      "text/plain": [
       "true"
      ]
     },
     "execution_count": 8,
     "metadata": {},
     "output_type": "execute_result"
    }
   ],
   "source": [
    "haskey(highways, 46707688)"
   ]
  },
  {
   "cell_type": "code",
   "execution_count": 9,
   "metadata": {},
   "outputs": [
    {
     "data": {
      "text/plain": [
       "Dict{Int64,CreateOSMGraphs.Highway} with 299 entries:\n",
       "  164591653 => CreateOSMGraphs.Highway(\"residential\", 1, false, \"Helsingörsgata…\n",
       "  191913835 => CreateOSMGraphs.Highway(\"motorway_link\", 1, true, \"Östra Kistako…\n",
       "  2426380   => CreateOSMGraphs.Highway(\"unclassified\", 1, false, \"Borgarfjordsg…\n",
       "  171005731 => CreateOSMGraphs.Highway(\"residential\", 1, false, \"Ribegatan\", [4…\n",
       "  23838498  => CreateOSMGraphs.Highway(\"unclassified\", 1, false, \"Vågögatan\", […\n",
       "  5842806   => CreateOSMGraphs.Highway(\"unclassified\", 1, true, \"Danmarksgatan\"…\n",
       "  62060896  => CreateOSMGraphs.Highway(\"unclassified\", 1, false, \"Oddegatan\", […\n",
       "  7995343   => CreateOSMGraphs.Highway(\"tertiary\", 1, false, \"Hedvigsdalvägen\",…\n",
       "  5173676   => CreateOSMGraphs.Highway(\"tertiary\", 2, true, \"\", [609217, 359689…\n",
       "  33878741  => CreateOSMGraphs.Highway(\"residential\", 1, false, \"Jyllandsgatan\"…\n",
       "  321168558 => CreateOSMGraphs.Highway(\"residential\", 1, false, \"Anhaltsvägen\",…\n",
       "  195956260 => CreateOSMGraphs.Highway(\"tertiary\", 1, false, \"Torshamnsgatan\", …\n",
       "  8233230   => CreateOSMGraphs.Highway(\"residential\", 1, false, \"Nykarlebygatan…\n",
       "  37972082  => CreateOSMGraphs.Highway(\"tertiary\", 2, true, \"Kistavägen\", [6092…\n",
       "  361453470 => CreateOSMGraphs.Highway(\"unclassified\", 1, false, \"Kistagången\",…\n",
       "  138774252 => CreateOSMGraphs.Highway(\"residential\", 1, false, \"Helsingörsgata…\n",
       "  23729537  => CreateOSMGraphs.Highway(\"unclassified\", 1, false, \"Grönlandsgång…\n",
       "  255977264 => CreateOSMGraphs.Highway(\"motorway_link\", 1, true, \"Påfart Kymlin…\n",
       "  164591659 => CreateOSMGraphs.Highway(\"residential\", 1, false, \"Vejlegatan\", […\n",
       "  146655058 => CreateOSMGraphs.Highway(\"motorway_link\", 1, true, \"\", [159921036…\n",
       "  38074956  => CreateOSMGraphs.Highway(\"unclassified\", 2, true, \"Skagafjordsgat…\n",
       "  37415568  => CreateOSMGraphs.Highway(\"secondary\", 1, true, \"Hanstavägen\", [54…\n",
       "  45987051  => CreateOSMGraphs.Highway(\"motorway\", 2, true, \"Kymlingelänken\", […\n",
       "  23637290  => CreateOSMGraphs.Highway(\"residential\", 1, false, \"Furuvägen\", [2…\n",
       "  262617450 => CreateOSMGraphs.Highway(\"unclassified\", 3, false, \"Borgarfjordsg…\n",
       "  ⋮         => ⋮"
      ]
     },
     "execution_count": 9,
     "metadata": {},
     "output_type": "execute_result"
    }
   ],
   "source": [
    "highways"
   ]
  },
  {
   "cell_type": "code",
   "execution_count": null,
   "metadata": {},
   "outputs": [],
   "source": []
  }
 ],
 "metadata": {
  "kernelspec": {
   "display_name": "Julia 0.6.2",
   "language": "julia",
   "name": "julia-0.6"
  },
  "language_info": {
   "file_extension": ".jl",
   "mimetype": "application/julia",
   "name": "julia",
   "version": "0.6.2"
  }
 },
 "nbformat": 4,
 "nbformat_minor": 2
}
