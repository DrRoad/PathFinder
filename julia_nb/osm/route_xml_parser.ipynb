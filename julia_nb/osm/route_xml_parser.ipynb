{
 "cells": [
  {
   "cell_type": "code",
   "execution_count": 1,
   "metadata": {},
   "outputs": [],
   "source": [
    "using LibExpat"
   ]
  },
  {
   "cell_type": "markdown",
   "metadata": {},
   "source": [
    "### Read and parse the XML file"
   ]
  },
  {
   "cell_type": "code",
   "execution_count": 2,
   "metadata": {
    "scrolled": true
   },
   "outputs": [],
   "source": [
    "route_xml_path = \"map.rou.xml\"\n",
    "\n",
    "xml_str = readstring(route_xml_path);\n",
    "etree = xp_parse(xml_str);\n",
    "\n",
    "routes = filter(e -> typeof(e) == LibExpat.ETree, etree.elements)\n",
    "routes = map(route -> filter(e -> typeof(e) == LibExpat.ETree, route.elements)[1], routes);"
   ]
  },
  {
   "cell_type": "code",
   "execution_count": 3,
   "metadata": {},
   "outputs": [
    {
     "data": {
      "text/plain": [
       "parse_each_egde_str (generic function with 1 method)"
      ]
     },
     "execution_count": 3,
     "metadata": {},
     "output_type": "execute_result"
    }
   ],
   "source": [
    "function parse_each_egde_str(edge_str)\n",
    "    \n",
    "    sign = '+'\n",
    "    edge_id_start = 1\n",
    "    \n",
    "    if edge_str[1] == '-'\n",
    "        sign = '-'\n",
    "        edge_id_start = 2\n",
    "    end\n",
    "    \n",
    "    hashtag_idx = find(d -> d == '#', edge_str)\n",
    "    if length(hashtag_idx) != 0\n",
    "        edge_id_end = hashtag_idx[1]\n",
    "    else\n",
    "        edge_id_end = length(edge_str)\n",
    "    end\n",
    "\n",
    "    return (sign, parse(edge_str[edge_id_start:edge_id_end]), parse(edge_str[edge_id_end+1:end]))\n",
    "end"
   ]
  },
  {
   "cell_type": "markdown",
   "metadata": {},
   "source": [
    "### Extract all routes"
   ]
  },
  {
   "cell_type": "code",
   "execution_count": 4,
   "metadata": {
    "scrolled": true
   },
   "outputs": [],
   "source": [
    "paths = map(route -> map(s -> parse_each_egde_str(s), split(route.attr[\"edges\"], \" \")), routes);"
   ]
  },
  {
   "cell_type": "markdown",
   "metadata": {},
   "source": [
    "### Turn all route edges into nodes"
   ]
  },
  {
   "cell_type": "code",
   "execution_count": 5,
   "metadata": {},
   "outputs": [
    {
     "name": "stdout",
     "output_type": "stream",
     "text": [
      "getOSMData\n"
     ]
    },
    {
     "name": "stderr",
     "output_type": "stream",
     "text": [
      "\n",
      "WARNING: deprecated syntax \"typealias Styles @compat Union{Style,Dict{Int,Style}}\" at /home/hitmann/hitmann/PathFinder/julia_nb/osm/plot.jl:8.\n",
      "Use \"const Styles = @compat Union{Style,Dict{Int,Style}}\" instead.\n"
     ]
    },
    {
     "name": "stdout",
     "output_type": "stream",
     "text": [
      "  2.304198 seconds (3.38 M allocations: 154.308 MiB, 5.60% gc time)\n",
      "intersections\n",
      "  0.000191 seconds (1.11 k allocations: 120.531 KiB)\n",
      "roadways\n",
      "  0.035585 seconds (1.90 k allocations: 109.782 KiB)\n",
      "segmentHighways\n",
      "  0.676336 seconds (89.79 k allocations: 4.646 MiB)\n",
      "createGraph\n",
      "  0.484611 seconds (89.39 k allocations: 3.865 MiB)\n",
      "  8.061682 seconds (4.38 M allocations: 206.784 MiB, 2.19% gc time)\n"
     ]
    }
   ],
   "source": [
    "using LightGraphs\n",
    "import LightGraphs.SimpleGraphs: SimpleEdge, SimpleDiGraph\n",
    "include(\"CreateOSMGraphs.jl\")\n",
    "using CreateOSMGraphs;\n",
    "include(\"utils.jl\")\n",
    "\n",
    "# osm_fnX= \"northern_stockholm.osm\"\n",
    "osm_fn = \"map.osm\"\n",
    "@time graph, vprops, eprops, edgeDict, \n",
    "nodesLLA, highways, geohash2edgedict = CreateOSMGraphs.CreateOSMGraph(osm_fn);"
   ]
  },
  {
   "cell_type": "code",
   "execution_count": 16,
   "metadata": {},
   "outputs": [],
   "source": [
    "for path in paths\n",
    "    for edge in path\n",
    "        @assert haskey(highways, edge[2])\n",
    "        nodes = highways[edge[2]].nodes\n",
    "        @assert length(nodes) >= 2\n",
    "        @assert haskey(vprops, nodes[1])\n",
    "        @assert haskey(vprops, nodes[end])\n",
    "    end\n",
    "end"
   ]
  },
  {
   "cell_type": "code",
   "execution_count": 23,
   "metadata": {},
   "outputs": [
    {
     "data": {
      "text/plain": [
       "9-element Array{Int64,1}:\n",
       "  259527614\n",
       " 3121765161\n",
       "  446665330\n",
       "  937553017\n",
       "  446665335\n",
       "  504300634\n",
       "  537648201\n",
       "  491504020\n",
       " 2333424372"
      ]
     },
     "execution_count": 23,
     "metadata": {},
     "output_type": "execute_result"
    }
   ],
   "source": [
    "highways[552009977].nodes"
   ]
  },
  {
   "cell_type": "code",
   "execution_count": 31,
   "metadata": {},
   "outputs": [
    {
     "data": {
      "text/plain": [
       "true"
      ]
     },
     "execution_count": 31,
     "metadata": {},
     "output_type": "execute_result"
    }
   ],
   "source": [
    "haskey(vprops, 446665330)"
   ]
  },
  {
   "cell_type": "code",
   "execution_count": null,
   "metadata": {},
   "outputs": [],
   "source": []
  }
 ],
 "metadata": {
  "kernelspec": {
   "display_name": "Julia 0.6.2",
   "language": "julia",
   "name": "julia-0.6"
  },
  "language_info": {
   "file_extension": ".jl",
   "mimetype": "application/julia",
   "name": "julia",
   "version": "0.6.2"
  }
 },
 "nbformat": 4,
 "nbformat_minor": 2
}
