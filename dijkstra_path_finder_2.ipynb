{
 "cells": [
  {
   "cell_type": "markdown",
   "metadata": {
    "deletable": true,
    "editable": true
   },
   "source": [
    "# Heads-Up\n",
    "\n",
    "In the notebook, we are working on generating\n",
    "graphs whose nodes have Euclidean coordinates;\n",
    "One thing to pay attention to is, in real world\n",
    "road network, nodes (intersections) that are close\n",
    "to each other geographically are more likely to be\n",
    "connected with edges (roads).\n",
    "\n",
    "Edge centrality will be added as part of the heuristic;\n",
    "meantime, cosine distance can also be a good heuristic;\n",
    "The geographical coordinates of nodes can be included."
   ]
  },
  {
   "cell_type": "markdown",
   "metadata": {
    "deletable": true,
    "editable": true
   },
   "source": [
    "# Questions\n",
    "\n",
    "Does centrality really encode information about your destination?"
   ]
  },
  {
   "cell_type": "markdown",
   "metadata": {
    "deletable": true,
    "editable": true
   },
   "source": [
    "# Think with Analogy\n",
    "\n",
    "The model should not look back, only forward;\n",
    "The graph used for training is small and\n",
    "the trained model is used to infer nodes on\n",
    "similar sized graphs; perhaps training with\n",
    "big graphs will lead to better inference\n",
    "on smaller graphs"
   ]
  },
  {
   "cell_type": "markdown",
   "metadata": {
    "deletable": true,
    "editable": true
   },
   "source": [
    "# Thoughts\n",
    "\n",
    "The model does not work very well on larger graph.\n",
    "One direction to inspect is, does it really make sense\n",
    "to use Dijkstra path as ground truth when the model\n",
    "is fed with more meaningful features such as geo-locations\n",
    "and cos-distances. Perhaps A* is a better algorithm to be \n",
    "used to provide the \"ground truth\"\n",
    "\n",
    "When the graph grows larger, the size of the network should\n",
    "grow accordingly so it has enough volume and power to learn\n",
    "the graph."
   ]
  },
  {
   "cell_type": "markdown",
   "metadata": {
    "deletable": true,
    "editable": true
   },
   "source": [
    "# What's Next?\n",
    "\n",
    "At the moment, the training data only\n",
    "has knowledge regarding the first order\n",
    "neighbors of each node; maybe adding second\n",
    "third order neighbor will help the model to learn\n",
    "better.\n",
    "\n",
    "Two steps; firstly, use only the first order neighbor\n",
    "information but generate large graphs to train, e.g., \n",
    "at least 100 nodes; secondly, start writing flexible\n",
    "functions to encode arbitrary orders of neighbors and\n",
    "arbitrary number of nodes at each order."
   ]
  },
  {
   "cell_type": "markdown",
   "metadata": {
    "deletable": true,
    "editable": true
   },
   "source": [
    "# Practice\n",
    "\n",
    "* Bigger model works better.\n",
    "* Add checkpoint to each epoch."
   ]
  },
  {
   "cell_type": "markdown",
   "metadata": {
    "deletable": true,
    "editable": true
   },
   "source": [
    "# The model can be confused\n",
    "\n",
    "Currently, the model is given the cos-distance between (cur_node, next_node) and (cur_node, dst_node);\n",
    "When I tried to provide the cos-distance between (src_node, next_node) and (src_node, dst_node), the model\n",
    "did not learn anything in the first few epochs; the accuracy was pure random guess.\n",
    "\n",
    "The take-away might be that the cos-distance between (src_node, next_node) and (src_node, dst_node) could\n",
    "easily confuse the model.\n",
    "\n",
    "A guess of reason was that the model was not provided with information about the src_node; therefore, I tried\n",
    "to add the coordinates of src node as new features for the model; this didn't work."
   ]
  },
  {
   "cell_type": "code",
   "execution_count": 1,
   "metadata": {
    "collapsed": false,
    "deletable": true,
    "editable": true
   },
   "outputs": [],
   "source": [
    "import networkx as nx\n",
    "import matplotlib.pyplot as plt\n",
    "import random\n",
    "import numpy as np\n",
    "import mxnet as mx\n",
    "import logging\n",
    "from sklearn.metrics import accuracy_score\n",
    "from utils import plot_g"
   ]
  },
  {
   "cell_type": "code",
   "execution_count": 2,
   "metadata": {
    "collapsed": false,
    "deletable": true,
    "editable": true
   },
   "outputs": [
    {
     "name": "stderr",
     "output_type": "stream",
     "text": [
      "/usr/local/Cellar/python/2.7.14/Frameworks/Python.framework/Versions/2.7/lib/python2.7/site-packages/jupyter_client/jsonutil.py:67: DeprecationWarning: Interpreting naive datetime as local 2018-03-16 14:48:35.463887. Please add timezone info to timestamps.\n",
      "  new_obj[k] = extract_dates(v)\n"
     ]
    }
   ],
   "source": [
    "NUM_NODE = 100\n",
    "WEIGHT_MIN = .5\n",
    "WEIGHT_MAX = 1."
   ]
  },
  {
   "cell_type": "code",
   "execution_count": 3,
   "metadata": {
    "collapsed": false,
    "deletable": true,
    "editable": true
   },
   "outputs": [
    {
     "name": "stderr",
     "output_type": "stream",
     "text": [
      "/usr/local/Cellar/python/2.7.14/Frameworks/Python.framework/Versions/2.7/lib/python2.7/site-packages/jupyter_client/jsonutil.py:67: DeprecationWarning: Interpreting naive datetime as local 2018-03-16 14:48:36.158915. Please add timezone info to timestamps.\n",
      "  new_obj[k] = extract_dates(v)\n"
     ]
    }
   ],
   "source": [
    "def calc_euclidean_dist(G, tmp_node, node):\n",
    "    \n",
    "    p_1 = np.array([G.nodes[tmp_node]['x'], G.nodes[tmp_node]['y']])\n",
    "    p_2 = np.array([G.nodes[node]['x'], G.nodes[node]['y']])\n",
    "    return np.sqrt(np.sum((p_1 - p_2)**2))\n",
    "\n",
    "def generate_low_degree_g(num_nodes=100, min_out_degree=2, max_out_degree=4, weight_min=WEIGHT_MIN, weight_max=WEIGHT_MAX):\n",
    "    \n",
    "    G = nx.Graph()\n",
    "    \n",
    "    grid_size = 10000\n",
    "    euclidean_coords = np.linspace(-1.0, 1.0, num=grid_size, endpoint=False)\n",
    "    coords_indices = list(range(grid_size))\n",
    "    \n",
    "    random.shuffle(coords_indices)\n",
    "    x_coords = euclidean_coords[coords_indices][:num_nodes]\n",
    "#     print(x_coords)\n",
    "    random.shuffle(coords_indices)\n",
    "    y_coords = euclidean_coords[coords_indices][:num_nodes]\n",
    "#     print(y_coords)\n",
    "    \n",
    "    # Add coordinates to nodes\n",
    "    for node, coord in enumerate(zip(x_coords, y_coords)):\n",
    "#         print(node, coord[0], coord[1])\n",
    "        G.add_node(node, x=coord[0], y=coord[1])\n",
    "    \n",
    "    for node in G.nodes:\n",
    "        \n",
    "        tmp_nodes = list(G.nodes)\n",
    "        tmp_nodes.remove(node)\n",
    "        node_dist = map(lambda tmp_node: (tmp_node, calc_euclidean_dist(G, tmp_node, node)), tmp_nodes)\n",
    "        node_dist = sorted(node_dist, key=lambda d:d[1])\n",
    "        \n",
    "        num_of_neighbors = random.randint(min_out_degree, max_out_degree)\n",
    "#         print(node, out_neighbors)\n",
    "        \n",
    "#         G.add_edges_from(map(lambda d:(node, d), out_neighbors))\n",
    "        \n",
    "        for tmp_node in node_dist:\n",
    "\n",
    "            if G.degree(tmp_node[0]) >= max_out_degree \\\n",
    "                or G.degree(node) >= num_of_neighbors:\n",
    "                # This node has maximum number of neighbors already\n",
    "                continue\n",
    "            \n",
    "            weight = random.uniform(weight_min, weight_max)\n",
    "            geo_dist = calc_euclidean_dist(G, tmp_node[0], node)\n",
    "            \n",
    "            G.add_edge(node, tmp_node[0], weight=weight * geo_dist)\n",
    "    \n",
    "    # Add centrality to edges\n",
    "    edge_centrality = nx.edge_betweenness_centrality(G, \\\n",
    "                                                     k=G.number_of_nodes(), \\\n",
    "                                                     weight='weight')\n",
    "    assert len(edge_centrality) == G.number_of_edges()\n",
    "    \n",
    "    for edge_data in G.edges.data():\n",
    "        edge_data[2]['centrality'] = edge_centrality[(edge_data[0], edge_data[1])]\n",
    "        \n",
    "    return G"
   ]
  },
  {
   "cell_type": "code",
   "execution_count": 5,
   "metadata": {
    "collapsed": false
   },
   "outputs": [
    {
     "name": "stderr",
     "output_type": "stream",
     "text": [
      "/usr/local/Cellar/python/2.7.14/Frameworks/Python.framework/Versions/2.7/lib/python2.7/site-packages/jupyter_client/jsonutil.py:67: DeprecationWarning: Interpreting naive datetime as local 2018-03-16 14:48:44.180277. Please add timezone info to timestamps.\n",
      "  new_obj[k] = extract_dates(v)\n"
     ]
    },
    {
     "name": "stdout",
     "output_type": "stream",
     "text": [
      "4\n",
      "2\n",
      "100\n",
      "174\n"
     ]
    }
   ],
   "source": [
    "G = generate_low_degree_g(num_nodes=100)\n",
    "max_degree = max(G.degree, key=lambda d: d[1])[1]\n",
    "min_degree = min(G.degree, key=lambda d: d[1])[1]\n",
    "print(max_degree)\n",
    "print(min_degree)\n",
    "print(G.number_of_nodes())\n",
    "print(G.number_of_edges())"
   ]
  },
  {
   "cell_type": "code",
   "execution_count": 11,
   "metadata": {
    "collapsed": false,
    "deletable": true,
    "editable": true
   },
   "outputs": [
    {
     "name": "stderr",
     "output_type": "stream",
     "text": [
      "/usr/local/Cellar/python/2.7.14/Frameworks/Python.framework/Versions/2.7/lib/python2.7/site-packages/jupyter_client/jsonutil.py:67: DeprecationWarning: Interpreting naive datetime as local 2018-03-16 14:49:19.864244. Please add timezone info to timestamps.\n",
      "  new_obj[k] = extract_dates(v)\n"
     ]
    },
    {
     "data": {
      "image/png": "[encoded data removed]",
      "text/plain": [
       "<Figure size 432x288 with 1 Axes>"
      ]
     },
     "metadata": {},
     "output_type": "display_data"
    }
   ],
   "source": [
    "plot_g(G, with_labels=True, node_size=250, font_size=8)"
   ]
  },
  {
   "cell_type": "markdown",
   "metadata": {
    "deletable": true,
    "editable": true
   },
   "source": [
    "# N.B\n",
    "\n",
    "for each edge, the feature vector consists the following fields:  \n",
    "\\[centrality, weight, cos_distance, geo_distance, x_node, y_node\\]  \n",
    "\n",
    "the geo-locations of both src and dst are also encoded.Therefore, \n",
    "the length of sample vector is: 4 * 6 + 4 = 28.\n"
   ]
  },
  {
   "cell_type": "code",
   "execution_count": 8,
   "metadata": {
    "collapsed": false,
    "deletable": true,
    "editable": true
   },
   "outputs": [
    {
     "name": "stderr",
     "output_type": "stream",
     "text": [
      "/usr/local/Cellar/python/2.7.14/Frameworks/Python.framework/Versions/2.7/lib/python2.7/site-packages/jupyter_client/jsonutil.py:67: DeprecationWarning: Interpreting naive datetime as local 2018-03-16 11:05:46.695945. Please add timezone info to timestamps.\n",
      "  new_obj[k] = extract_dates(v)\n"
     ]
    }
   ],
   "source": [
    "def calc_cosine_dist(p1, p2):\n",
    "    return np.dot(p1, p2) / (np.linalg.norm(p1) * np.linalg.norm(p2))\n",
    "\n",
    "def encode_edges(G, parent, node, src, dst):\n",
    "    \n",
    "    ret = np.zeros((max_degree, 7))\n",
    "    ret[:, -1] = -1\n",
    "    \n",
    "    x_dst = G.nodes[dst]['x']\n",
    "    y_dst = G.nodes[dst]['y']\n",
    "    x_src = G.nodes[src]['x']\n",
    "    y_src = G.nodes[src]['y']\n",
    "    \n",
    "    for idx, edge in enumerate(G.edges(node)):\n",
    "        u = edge[0]\n",
    "        v = edge[1]\n",
    "        \n",
    "#         Only look forward\n",
    "        if v == parent:\n",
    "            continue\n",
    "        \n",
    "        ret[idx][0] = G.get_edge_data(u, v)['centrality']\n",
    "        ret[idx][1] = G.get_edge_data(u, v)['weight']\n",
    "        \n",
    "        x_u = G.nodes[u]['x']\n",
    "        y_u = G.nodes[u]['y']\n",
    "        x_v = G.nodes[v]['x']\n",
    "        y_v = G.nodes[v]['y']\n",
    "\n",
    "        ret[idx][2] = calc_cosine_dist((x_v-x_u, y_v-y_u), (x_dst-x_u, y_dst-y_u))\n",
    "        ret[idx][3] = calc_euclidean_dist(G, v, dst)\n",
    "        ret[idx][4] = x_v\n",
    "        ret[idx][5] = y_v\n",
    "        ret[idx][-1] = v\n",
    "        \n",
    "    return (ret, x_src, y_src, x_dst, y_dst)\n",
    "\n",
    "def generate_dataset(G):\n",
    "    \n",
    "    X = []\n",
    "    y = []\n",
    "\n",
    "    for paths in nx.all_pairs_dijkstra_path(G):\n",
    "\n",
    "        print(\"src :%d\" % paths[0])\n",
    "        print(paths[1])\n",
    "        print('')\n",
    "        src = paths[0]\n",
    "\n",
    "        for dst, path in paths[1].items():\n",
    "\n",
    "            if dst == src:\n",
    "                continue\n",
    "\n",
    "            # X = cur_node + dst_node\n",
    "            # y = next_node (Dijkstra)\n",
    "            parent_node = -1\n",
    "            cur_node = src\n",
    "            for mid_node in path[1:]:\n",
    "\n",
    "                print('parent:(%d), X:(%d, %d), y:(%d)' % (parent_node, cur_node, dst, mid_node))\n",
    "                X.append(encode_edges(G, parent_node, cur_node, src, dst))\n",
    "                y.append(mid_node)\n",
    "                \n",
    "                parent_node = cur_node\n",
    "                cur_node = mid_node\n",
    "\n",
    "    #         print(cur_node, dst)\n",
    "            print(path)\n",
    "            print('')\n",
    "    \n",
    "    return X, y"
   ]
  },
  {
   "cell_type": "code",
   "execution_count": null,
   "metadata": {
    "collapsed": false,
    "deletable": true,
    "editable": true
   },
   "outputs": [],
   "source": [
    "features, labels = generate_dataset(G)"
   ]
  },
  {
   "cell_type": "code",
   "execution_count": 10,
   "metadata": {
    "collapsed": false,
    "deletable": true,
    "editable": true,
    "scrolled": true
   },
   "outputs": [
    {
     "name": "stderr",
     "output_type": "stream",
     "text": [
      "/usr/local/Cellar/python/2.7.14/Frameworks/Python.framework/Versions/2.7/lib/python2.7/site-packages/jupyter_client/jsonutil.py:67: DeprecationWarning: Interpreting naive datetime as local 2018-03-16 11:05:49.984493. Please add timezone info to timestamps.\n",
      "  new_obj[k] = extract_dates(v)\n"
     ]
    },
    {
     "data": {
      "text/plain": [
       "1230"
      ]
     },
     "execution_count": 10,
     "metadata": {},
     "output_type": "execute_result"
    }
   ],
   "source": [
    "len(labels)"
   ]
  },
  {
   "cell_type": "code",
   "execution_count": 11,
   "metadata": {
    "collapsed": false,
    "deletable": true,
    "editable": true
   },
   "outputs": [
    {
     "name": "stderr",
     "output_type": "stream",
     "text": [
      "/usr/local/Cellar/python/2.7.14/Frameworks/Python.framework/Versions/2.7/lib/python2.7/site-packages/jupyter_client/jsonutil.py:67: DeprecationWarning: Interpreting naive datetime as local 2018-03-16 11:05:51.865816. Please add timezone info to timestamps.\n",
      "  new_obj[k] = extract_dates(v)\n"
     ]
    }
   ],
   "source": [
    "def find_label_idx(feature, label):\n",
    "    \n",
    "    for idx, row in enumerate(feature):\n",
    "        if label == row[-1]:\n",
    "            break\n",
    "    \n",
    "    return idx\n",
    "\n",
    "def one_hot_encode(idx, length=max_degree):\n",
    "    \n",
    "    ret = np.zeros(length)\n",
    "    ret[idx] = 1.0\n",
    "    return ret\n",
    "\n",
    "def augment_dataset(X, y, augmentation_index=20):\n",
    "    \n",
    "    sample_size = len(y)\n",
    "    augmented_sample_size = augmentation_index * sample_size\n",
    "    feature_size = 28\n",
    "    \n",
    "    X_aug, y_aug = np.zeros((augmented_sample_size, feature_size)), np.zeros((augmented_sample_size), dtype=np.int)\n",
    "    indices = np.arange(max_degree)\n",
    "    \n",
    "    cnt = 0\n",
    "    for feature, label in zip(X, y):\n",
    "        for _ in range(augmentation_index):\n",
    "            np.random.shuffle(indices)\n",
    "            \n",
    "            feature_tmp = feature[0][indices]\n",
    "            label_tmp = find_label_idx(feature_tmp, label)\n",
    "            \n",
    "            X_aug[cnt] = np.append(feature_tmp[:, :-1].reshape(-1), [feature[1], feature[2], feature[3], feature[4]])\n",
    "            y_aug[cnt] = label_tmp\n",
    "            \n",
    "            cnt += 1\n",
    "            \n",
    "    return X_aug, y_aug"
   ]
  },
  {
   "cell_type": "code",
   "execution_count": 20,
   "metadata": {
    "collapsed": false,
    "deletable": true,
    "editable": true
   },
   "outputs": [
    {
     "name": "stderr",
     "output_type": "stream",
     "text": [
      "/usr/local/Cellar/python/2.7.14/Frameworks/Python.framework/Versions/2.7/lib/python2.7/site-packages/jupyter_client/jsonutil.py:67: DeprecationWarning: Interpreting naive datetime as local 2018-03-16 11:09:24.389486. Please add timezone info to timestamps.\n",
      "  new_obj[k] = extract_dates(v)\n"
     ]
    }
   ],
   "source": [
    "X, y = augment_dataset(features, labels, augmentation_index=100)"
   ]
  },
  {
   "cell_type": "code",
   "execution_count": 21,
   "metadata": {
    "collapsed": false,
    "deletable": true,
    "editable": true
   },
   "outputs": [
    {
     "name": "stdout",
     "output_type": "stream",
     "text": [
      "(104550, 28)\n",
      "(104550,)\n",
      "(18450, 28)\n",
      "(18450,)\n"
     ]
    },
    {
     "name": "stderr",
     "output_type": "stream",
     "text": [
      "/usr/local/Cellar/python/2.7.14/Frameworks/Python.framework/Versions/2.7/lib/python2.7/site-packages/jupyter_client/jsonutil.py:67: DeprecationWarning: Interpreting naive datetime as local 2018-03-16 11:09:58.221890. Please add timezone info to timestamps.\n",
      "  new_obj[k] = extract_dates(v)\n"
     ]
    }
   ],
   "source": [
    "from sklearn.model_selection import train_test_split\n",
    "\n",
    "X_train, X_test, y_train, y_test = train_test_split(X, y, train_size=0.85, test_size=.15, random_state=42)\n",
    "print(X_train.shape)\n",
    "print(y_train.shape)\n",
    "print(X_test.shape)\n",
    "print(y_test.shape)"
   ]
  },
  {
   "cell_type": "code",
   "execution_count": 186,
   "metadata": {
    "collapsed": true,
    "deletable": true,
    "editable": true
   },
   "outputs": [],
   "source": [
    "batch_size = 128\n",
    "\n",
    "train_iter = mx.io.NDArrayIter(X_train, y_train, batch_size, shuffle=True)\n",
    "val_iter = mx.io.NDArrayIter(X_test, y_test, batch_size=batch_size)"
   ]
  },
  {
   "cell_type": "code",
   "execution_count": 187,
   "metadata": {
    "collapsed": true,
    "deletable": true,
    "editable": true
   },
   "outputs": [],
   "source": [
    "def build_model(context=mx.gpu()):\n",
    "    \n",
    "    data = mx.sym.var('data')\n",
    "    label = mx.sym.var('softmax_label')\n",
    "    \n",
    "    fc1  = mx.sym.FullyConnected(data=data, num_hidden=300)\n",
    "    fc1 = mx.sym.Activation(data=fc1, act_type=\"relu\")\n",
    "    \n",
    "    fc2  = mx.sym.FullyConnected(data=fc1, num_hidden=200)\n",
    "    fc2 = mx.sym.Activation(data=fc2, act_type=\"relu\")\n",
    "    \n",
    "    fc3  = mx.sym.FullyConnected(data=fc2, num_hidden=max_degree)\n",
    "    mlp  = mx.sym.SoftmaxOutput(data=fc3, label=label)\n",
    "    \n",
    "    return mx.mod.Module(symbol=mlp, context=context)\n",
    "\n",
    "def custom_acc(label, pred):\n",
    "    tmp_label = np.argmax(label, axis=1)\n",
    "    tmp_pred = np.argmax(pred, axis=1)\n",
    "    return accuracy_score(tmp_label, tmp_pred)"
   ]
  },
  {
   "cell_type": "code",
   "execution_count": 188,
   "metadata": {
    "collapsed": true,
    "deletable": true,
    "editable": true
   },
   "outputs": [],
   "source": [
    "logging.getLogger().setLevel(logging.DEBUG)  # logging to stdout\n",
    "model = build_model()\n",
    "model.bind(data_shapes=train_iter.provide_data, label_shapes=train_iter.provide_label)\n",
    "model.init_params()\n",
    "\n",
    "custom_metric = mx.metric.create(custom_acc)"
   ]
  },
  {
   "cell_type": "code",
   "execution_count": null,
   "metadata": {
    "collapsed": true,
    "deletable": true,
    "editable": true,
    "scrolled": true
   },
   "outputs": [],
   "source": [
    "model.fit(train_iter,  # train data\n",
    "              eval_data=val_iter,  # validation data\n",
    "              optimizer='adam',  # use SGD to train\n",
    "#               optimizer_params={'learning_rate':0.01, 'momentum': 0.9},\n",
    "              eval_metric='acc',  # report accuracy during training\n",
    "              batch_end_callback = mx.callback.Speedometer(batch_size, 500),\n",
    "              epoch_end_callback = mx.callback.do_checkpoint(\"mymodel\", 1),\n",
    "              num_epoch=20) "
   ]
  },
  {
   "cell_type": "code",
   "execution_count": 162,
   "metadata": {
    "collapsed": false,
    "deletable": true,
    "editable": true
   },
   "outputs": [
    {
     "name": "stdout",
     "output_type": "stream",
     "text": [
      "Acc on training set 0.984115\n",
      "Acc on test set 0.983960\n",
      "Acc on all 0.984092\n"
     ]
    }
   ],
   "source": [
    "acc = mx.metric.Accuracy()\n",
    "train_iter = mx.io.NDArrayIter(X_train, y_train, batch_size=batch_size)\n",
    "model.score(train_iter, acc)\n",
    "print('Acc on training set %f' % acc.get()[1])\n",
    "\n",
    "acc = mx.metric.Accuracy()\n",
    "test_iter = mx.io.NDArrayIter(X_test, y_test, batch_size=batch_size)\n",
    "model.score(test_iter, acc)\n",
    "print('Acc on test set %f' % acc.get()[1])\n",
    "\n",
    "acc = mx.metric.Accuracy()\n",
    "all_iter = mx.io.NDArrayIter(X, y, batch_size=batch_size)\n",
    "model.score(all_iter, acc)\n",
    "print('Acc on all %f' % acc.get()[1])"
   ]
  },
  {
   "cell_type": "code",
   "execution_count": 163,
   "metadata": {
    "collapsed": true,
    "deletable": true,
    "editable": true
   },
   "outputs": [],
   "source": [
    "def nn_infer_next_node(G, parent, cur_node, src, dst, model):\n",
    "#     print(\"In nn_infer_next_node\")\n",
    "    input_vec, x_src, y_src, x_dst, y_dst = encode_edges(G, parent, cur_node, src, dst)\n",
    "    \n",
    "    real_input_vec = np.append(input_vec[:, :-1].reshape(-1), [x_src, y_src, x_dst, y_dst])\n",
    "    pred = model.predict(mx.io.NDArrayIter(np.array([real_input_vec]), np.array([0]))).asnumpy()[0]\n",
    "    pred_idx = np.argmax(pred)\n",
    "    neighbor = int(input_vec[pred_idx][-1])\n",
    "    \n",
    "    if neighbor == -1:\n",
    "        print(\"Invalid prediction, randomizing next node\")\n",
    "        avaliable_neighbors = filter(lambda d: d >= 0, input_vec[:, -1])\n",
    "        neighbor = int(avaliable_neighbors[np.random.randint(0, len(avaliable_neighbors))])\n",
    "        \n",
    "    return (neighbor, G.get_edge_data(cur_node, neighbor)['weight'])\n",
    "\n",
    "def dijkstra_path_finder(G, src, dst, model=None):\n",
    "    \n",
    "    path = [src]\n",
    "    parent_node = -1\n",
    "    cur_node = src\n",
    "    total_weights = .0\n",
    "    \n",
    "    while True:\n",
    "        \n",
    "        if len(path) >= G.number_of_nodes():\n",
    "            return path, total_weights, False\n",
    "        \n",
    "        next_node, weight = nn_infer_next_node(G, parent_node, cur_node, src, dst, model)\n",
    "        total_weights += weight\n",
    "        path.append(next_node)\n",
    "        \n",
    "        if next_node == dst:\n",
    "            return path, total_weights, True\n",
    "        \n",
    "        parent_node = cur_node\n",
    "        cur_node = next_node"
   ]
  },
  {
   "cell_type": "code",
   "execution_count": 164,
   "metadata": {
    "collapsed": true,
    "deletable": true,
    "editable": true,
    "scrolled": true
   },
   "outputs": [],
   "source": [
    "# G = generate_low_degree_g()\n",
    "def calc_statistics(G):\n",
    "    found_cnt = 0\n",
    "    opt_path_cnt = 0\n",
    "    \n",
    "    def calc_dot_dist(p1, p2):\n",
    "        return np.dot(p1, p2)\n",
    "\n",
    "    def calc_geo_dist(p1, p2):\n",
    "\n",
    "        p_1 = np.array(p1)\n",
    "        p_2 = np.array(p2)\n",
    "\n",
    "        return np.sqrt(np.sum((p_1 - p_2)**2))\n",
    "\n",
    "    def heuristic(node, dst):\n",
    "\n",
    "        x_src = G.nodes[src]['x']\n",
    "        y_src = G.nodes[src]['y']\n",
    "        x_dst = G.nodes[dst]['x']\n",
    "        y_dst = G.nodes[dst]['y']\n",
    "        x_node = G.nodes[node]['x']\n",
    "        y_node = G.nodes[node]['y']\n",
    "\n",
    "        dist_src_2_dst = calc_geo_dist((x_src, y_src), (x_dst, y_dst))\n",
    "        dot_src_2_node = calc_dot_dist((x_node-x_src, y_node-y_src), (x_dst-x_src, y_dst-y_src))\n",
    "        ret = dist_src_2_dst - (dot_src_2_node) / dist_src_2_dst\n",
    "\n",
    "        return ret\n",
    "    \n",
    "    for t in nx.all_pairs_dijkstra_path(G):\n",
    "        src = t[0]\n",
    "        paths = t[1]\n",
    "        \n",
    "        for dst, path in paths.items():\n",
    "\n",
    "            if src == dst:\n",
    "                continue\n",
    "\n",
    "            nn_path, _, found = dijkstra_path_finder(G, src, dst, model=model)\n",
    "            found_cnt = found_cnt + 1 if found else found_cnt\n",
    "            \n",
    "            if nn_path == path:\n",
    "                opt_path_cnt = opt_path_cnt + 1\n",
    "            elif found:\n",
    "                \n",
    "                \n",
    "                astar_path = nx.astar_path(G, src, dst, heuristic=heuristic)\n",
    "                print('Printing all paths for reference:')\n",
    "                print(\"Dijkstra path :\", path)\n",
    "                print(\"A star path :\", astar_path)\n",
    "                print(\"NN path :\", nn_path)\n",
    "                print('')\n",
    "                \n",
    "            else:\n",
    "                pass\n",
    "\n",
    "    return found_cnt, opt_path_cnt"
   ]
  },
  {
   "cell_type": "code",
   "execution_count": 165,
   "metadata": {
    "collapsed": true,
    "deletable": true,
    "editable": true
   },
   "outputs": [],
   "source": [
    "def print_paths_statistics(G):\n",
    "\n",
    "    num_of_nodes = G.number_of_nodes()\n",
    "    num_total_path = num_of_nodes*(num_of_nodes-1)\n",
    "\n",
    "    found_cnt, opt_path_cnt = calc_statistics(G)\n",
    "    print('%d out of %d can find path: %f' % (found_cnt, num_total_path, float(found_cnt)/num_total_path))\n",
    "    print('%d out of %d can find optimal path: %f' % (opt_path_cnt, found_cnt, float(opt_path_cnt)/found_cnt))\n",
    "    print('%d out of %d all paths can find optimal paths: %f' % (opt_path_cnt, num_total_path, float(opt_path_cnt)/num_total_path))"
   ]
  },
  {
   "cell_type": "code",
   "execution_count": null,
   "metadata": {
    "collapsed": true,
    "deletable": true,
    "editable": true,
    "scrolled": true
   },
   "outputs": [],
   "source": [
    "print_paths_statistics(G)\n",
    "\n",
    "# 9893 out of 9900 can find path: 0.999293\n",
    "# 8803 out of 9893 can find optimal path: 0.889821\n",
    "# 8803 out of 9900 all paths can find optimal paths: 0.889192"
   ]
  },
  {
   "cell_type": "code",
   "execution_count": 94,
   "metadata": {
    "collapsed": false,
    "deletable": true,
    "editable": true
   },
   "outputs": [
    {
     "name": "stdout",
     "output_type": "stream",
     "text": [
      "[25, 24, 28, 49, 76, 12, 77, 26, 78, 34, 54, 55, 84, 9, 35, 6, 30]\n",
      "[25, 18, 28, 49, 76, 12, 77, 26, 78, 34, 54, 55, 84, 9, 35, 6, 60, 30]\n",
      "([25, 18, 28, 49, 76, 12, 77, 26, 78, 34, 54, 55, 84, 9, 35, 6, 60, 30], 1.2764853405190872, True)\n"
     ]
    }
   ],
   "source": [
    "src, dst = 25, 30\n",
    "print a_star_wrapper(G, src, dst)\n",
    "print nx.dijkstra_path(G, src, dst)\n",
    "print dijkstra_path_finder(G, src, dst, model=model)"
   ]
  },
  {
   "cell_type": "code",
   "execution_count": 30,
   "metadata": {
    "collapsed": false,
    "deletable": true,
    "editable": true
   },
   "outputs": [
    {
     "name": "stderr",
     "output_type": "stream",
     "text": [
      "/usr/local/Cellar/python/2.7.14/Frameworks/Python.framework/Versions/2.7/lib/python2.7/site-packages/jupyter_client/jsonutil.py:67: DeprecationWarning: Interpreting naive datetime as local 2018-03-16 11:24:58.513538. Please add timezone info to timestamps.\n",
      "  new_obj[k] = extract_dates(v)\n"
     ]
    },
    {
     "data": {
      "text/plain": [
       "array([ 0.41534917,  0.41359762,  0.4096276 ,  0.2785628 ,  0.20720297,\n",
       "        0.18240819,  0.16562072,  0.16477607,  0.16340446,  0.14338053,\n",
       "        0.08603776,  0.06708143,  0.04274608,  0.04230569,  0.04226567,\n",
       "        0.03488778,  0.03378256,  0.02055793,  0.02045706,  0.02022504,\n",
       "        0.00544183,  0.00537352,  0.00534291,  0.00358916,  0.00323628,\n",
       "        0.00321162,  0.00317825,  0.00293833])"
      ]
     },
     "execution_count": 30,
     "metadata": {},
     "output_type": "execute_result"
    }
   ],
   "source": [
    "from sklearn.decomposition import PCA\n",
    "pca = PCA(svd_solver='full')\n",
    "pca.fit(X, y)\n",
    "pca.explained_variance_"
   ]
  }
 ],
 "metadata": {
  "kernelspec": {
   "display_name": "Python 2",
   "language": "python",
   "name": "python2"
  },
  "language_info": {
   "codemirror_mode": {
    "name": "ipython",
    "version": 2
   },
   "file_extension": ".py",
   "mimetype": "text/x-python",
   "name": "python",
   "nbconvert_exporter": "python",
   "pygments_lexer": "ipython2",
   "version": "2.7.14"
  }
 },
 "nbformat": 4,
 "nbformat_minor": 2
}
