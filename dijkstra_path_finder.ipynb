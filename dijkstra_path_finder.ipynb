{
 "cells": [
  {
   "cell_type": "markdown",
   "metadata": {},
   "source": [
    "# Heads Up\n",
    "\n",
    "In this notebook, we start generating random undirected weighted\n",
    "graphs to not only better approximate real world road network but\n",
    "also facilitate the feature engineering of nodes and edges"
   ]
  },
  {
   "cell_type": "code",
   "execution_count": null,
   "metadata": {
    "collapsed": false,
    "deletable": true,
    "editable": true
   },
   "outputs": [],
   "source": [
    "import networkx as nx\n",
    "import matplotlib.pyplot as plt\n",
    "import random\n",
    "import numpy as np\n",
    "import mxnet as mx\n",
    "import logging\n",
    "from sklearn.metrics import accuracy_score\n",
    "from utils import plot_g"
   ]
  },
  {
   "cell_type": "code",
   "execution_count": null,
   "metadata": {
    "collapsed": false
   },
   "outputs": [],
   "source": [
    "NUM_NODE = 100\n",
    "WEIGHT_MIN = .0\n",
    "WEIGHT_MAX = 1."
   ]
  },
  {
   "cell_type": "code",
   "execution_count": null,
   "metadata": {
    "collapsed": false
   },
   "outputs": [],
   "source": [
    "def generate_low_degree_g(node_size=20, min_out_degree=2, max_out_degree=4, weight_min=WEIGHT_MIN, weight_max=WEIGHT_MAX):\n",
    "    \n",
    "    G = nx.Graph()\n",
    "    G.add_nodes_from(range(0, node_size))\n",
    "    \n",
    "    for node in G.nodes:\n",
    "        \n",
    "        tmp_nodes = list(G.nodes)\n",
    "        tmp_nodes.remove(node)\n",
    "        random.shuffle(tmp_nodes)\n",
    "        num_of_neighbors = random.randint(min_out_degree, max_out_degree)\n",
    "#         print(node, out_neighbors)\n",
    "        \n",
    "#         G.add_edges_from(map(lambda d:(node, d), out_neighbors))\n",
    "        \n",
    "        for tmp_node in tmp_nodes:\n",
    "\n",
    "            if G.degree(tmp_node) >= max_out_degree:\n",
    "                # This node has maximum number of neighbors already\n",
    "                continue\n",
    "\n",
    "            if G.degree(node) >= num_of_neighbors:\n",
    "                continue\n",
    "            \n",
    "            weight = random.uniform(weight_min, weight_max)\n",
    "            G.add_edge(node, tmp_node, weight=weight)\n",
    "        \n",
    "    return G"
   ]
  },
  {
   "cell_type": "code",
   "execution_count": null,
   "metadata": {
    "collapsed": false,
    "deletable": true,
    "editable": true
   },
   "outputs": [],
   "source": [
    "G = generate_low_degree_g()\n",
    "max_degree = max(G.degree, key=lambda d: d[1])[1]\n",
    "min_degree = min(G.degree, key=lambda d: d[1])[1]\n",
    "print(max_degree)\n",
    "print(min_degree)\n",
    "print(G.number_of_nodes())\n",
    "print(G.number_of_edges())\n",
    "plot_g(G)"
   ]
  },
  {
   "cell_type": "code",
   "execution_count": null,
   "metadata": {
    "collapsed": false,
    "scrolled": true
   },
   "outputs": [],
   "source": [
    "ret = traverse_g(G, 6, depth=3)"
   ]
  },
  {
   "cell_type": "code",
   "execution_count": null,
   "metadata": {
    "collapsed": false
   },
   "outputs": [],
   "source": [
    "ret"
   ]
  },
  {
   "cell_type": "code",
   "execution_count": null,
   "metadata": {
    "collapsed": false
   },
   "outputs": [],
   "source": [
    "def traverse_g_helper(layer_2_layer_dict, G, depth, parent_node, cur_node, step):\n",
    "    \n",
    "    if step > depth:\n",
    "        return\n",
    "    \n",
    "    layer_2_layer_dict[step-1][cur_node] = filter(lambda edge: edge[1] != parent_node, G.edges(cur_node))\n",
    "    for edge in G.edges(cur_node):\n",
    "        \n",
    "        neighbor = edge[1]\n",
    "        if neighbor == parent_node:\n",
    "            continue\n",
    "        \n",
    "        print('Step %d: from %d to %d' % (step, cur_node, neighbor))\n",
    "        traverse_g_helper(layer_2_layer_dict, G, depth, cur_node, neighbor, step+1)\n",
    "    \n",
    "def traverse_g(G, src, depth=2):\n",
    "    \n",
    "    layer_2_layer_dict = [dict() for _ in range(depth)]\n",
    "    traverse_g_helper(layer_2_layer_dict, G, depth, -1, src, 1)\n",
    "    \n",
    "    return layer_2_layer_dict"
   ]
  },
  {
   "cell_type": "code",
   "execution_count": null,
   "metadata": {
    "collapsed": false,
    "deletable": true,
    "editable": true
   },
   "outputs": [],
   "source": [
    "def extract_path(prev, src, dst):\n",
    "    \n",
    "    path = []\n",
    "    u = dst\n",
    "\n",
    "    while prev[u] != -1:\n",
    "        path.insert(0, u)\n",
    "        u = prev[u]\n",
    "        \n",
    "    path.insert(0, src)\n",
    "    return path\n",
    "\n",
    "def my_dijkstra_path(G, src, dst=None):\n",
    "    \n",
    "    prev = [-1 for _ in range(G.number_of_nodes())]\n",
    "    distance = [float('Inf') for _ in range(G.number_of_nodes())]\n",
    "    distance[src] = 0\n",
    "    Q = {}\n",
    "    intermediate_paths = {}\n",
    "    \n",
    "    for node, dist in enumerate(distance):\n",
    "        Q[node] = dist\n",
    "        intermediate_paths[node] = []\n",
    "    \n",
    "    while len(Q) != 0:\n",
    "        \n",
    "        u = min(Q, key=Q.get)\n",
    "        del Q[u]\n",
    "        \n",
    "        for edge in G.edges(u):\n",
    "            \n",
    "            \n",
    "            v = edge[1]\n",
    "            new_dist = distance[u] + G.get_edge_data(u, v)['weight']\n",
    "            \n",
    "#             intermediate_paths[v] += 1\n",
    "            \n",
    "            if new_dist < distance[v]:\n",
    "                distance[v] = new_dist\n",
    "                Q[v] = new_dist\n",
    "                prev[v] = u\n",
    "                \n",
    "                # extract the tmp path for v here for analysis\n",
    "                # TODO\n",
    "                \n",
    "                intermediate_paths[v].append(extract_path(prev, src, v))\n",
    "                \n",
    "    return extract_path(prev, src, dst), intermediate_paths"
   ]
  },
  {
   "cell_type": "code",
   "execution_count": null,
   "metadata": {
    "collapsed": false,
    "deletable": true,
    "editable": true
   },
   "outputs": [],
   "source": [
    "for node in G.nodes:\n",
    "\n",
    "    src, dst = node, 1\n",
    "    paths_from_src = nx.single_source_dijkstra_path(G, src)\n",
    "\n",
    "    out_neighbor_chosen_count = {}\n",
    "\n",
    "    for dst, path in paths_from_src.items():\n",
    "        if len(path) < 2:\n",
    "            continue\n",
    "\n",
    "        assert path[-1] == dst\n",
    "\n",
    "        out_neighbor_chosen_count[path[1]] = 1 if path[1] not in out_neighbor_chosen_count \\\n",
    "                                                else out_neighbor_chosen_count[path[1]] + 1\n",
    "\n",
    "    print(src)\n",
    "    for edge in G.out_edges(src):\n",
    "        print(edge[1], G.get_edge_data(src, edge[1])['weight'], out_neighbor_chosen_count.get(edge[1], 0))\n"
   ]
  },
  {
   "cell_type": "code",
   "execution_count": null,
   "metadata": {
    "collapsed": false,
    "deletable": true,
    "editable": true
   },
   "outputs": [],
   "source": [
    "plot_g(G)"
   ]
  },
  {
   "cell_type": "code",
   "execution_count": null,
   "metadata": {
    "collapsed": true,
    "deletable": true,
    "editable": true
   },
   "outputs": [],
   "source": []
  },
  {
   "cell_type": "code",
   "execution_count": null,
   "metadata": {
    "collapsed": true,
    "deletable": true,
    "editable": true
   },
   "outputs": [],
   "source": []
  },
  {
   "cell_type": "code",
   "execution_count": null,
   "metadata": {
    "collapsed": true,
    "deletable": true,
    "editable": true
   },
   "outputs": [],
   "source": []
  },
  {
   "cell_type": "code",
   "execution_count": null,
   "metadata": {
    "collapsed": true,
    "deletable": true,
    "editable": true
   },
   "outputs": [],
   "source": []
  },
  {
   "cell_type": "code",
   "execution_count": null,
   "metadata": {
    "collapsed": true,
    "deletable": true,
    "editable": true
   },
   "outputs": [],
   "source": []
  },
  {
   "cell_type": "code",
   "execution_count": null,
   "metadata": {
    "collapsed": true,
    "deletable": true,
    "editable": true
   },
   "outputs": [],
   "source": []
  },
  {
   "cell_type": "code",
   "execution_count": null,
   "metadata": {
    "collapsed": true,
    "deletable": true,
    "editable": true
   },
   "outputs": [],
   "source": []
  }
 ],
 "metadata": {
  "kernelspec": {
   "display_name": "Python 2",
   "language": "python",
   "name": "python2"
  },
  "language_info": {
   "codemirror_mode": {
    "name": "ipython",
    "version": 2
   },
   "file_extension": ".py",
   "mimetype": "text/x-python",
   "name": "python",
   "nbconvert_exporter": "python",
   "pygments_lexer": "ipython2",
   "version": "2.7.14"
  }
 },
 "nbformat": 4,
 "nbformat_minor": 2
}
