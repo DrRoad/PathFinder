{
 "cells": [
  {
   "cell_type": "markdown",
   "metadata": {
    "deletable": true,
    "editable": true
   },
   "source": [
    "# Heads Up\n",
    "\n",
    "In this notebook, we start generating random undirected weighted\n",
    "graphs to not only better approximate real world road network but\n",
    "also facilitate the feature engineering of nodes and edges"
   ]
  },
  {
   "cell_type": "code",
   "execution_count": null,
   "metadata": {
    "collapsed": false,
    "deletable": true,
    "editable": true
   },
   "outputs": [],
   "source": [
    "import networkx as nx\n",
    "import matplotlib.pyplot as plt\n",
    "import random\n",
    "import numpy as np\n",
    "import mxnet as mx\n",
    "import logging\n",
    "from sklearn.metrics import accuracy_score\n",
    "from utils import plot_g"
   ]
  },
  {
   "cell_type": "code",
   "execution_count": null,
   "metadata": {
    "collapsed": false,
    "deletable": true,
    "editable": true
   },
   "outputs": [],
   "source": [
    "NUM_NODE = 100\n",
    "WEIGHT_MIN = .0\n",
    "WEIGHT_MAX = 1."
   ]
  },
  {
   "cell_type": "code",
   "execution_count": null,
   "metadata": {
    "collapsed": false,
    "deletable": true,
    "editable": true
   },
   "outputs": [],
   "source": [
    "def generate_low_degree_g(node_size=20, min_out_degree=2, max_out_degree=4, weight_min=WEIGHT_MIN, weight_max=WEIGHT_MAX):\n",
    "    \n",
    "    G = nx.Graph()\n",
    "    G.add_nodes_from(range(0, node_size))\n",
    "    \n",
    "    for node in G.nodes:\n",
    "        \n",
    "        tmp_nodes = list(G.nodes)\n",
    "        tmp_nodes.remove(node)\n",
    "        random.shuffle(tmp_nodes)\n",
    "        num_of_neighbors = random.randint(min_out_degree, max_out_degree)\n",
    "#         print(node, out_neighbors)\n",
    "        \n",
    "#         G.add_edges_from(map(lambda d:(node, d), out_neighbors))\n",
    "        \n",
    "        for tmp_node in tmp_nodes:\n",
    "\n",
    "            if G.degree(tmp_node) >= max_out_degree \\\n",
    "                or G.degree(node) >= num_of_neighbors:\n",
    "                # This node has maximum number of neighbors already\n",
    "                continue\n",
    "            \n",
    "            weight = random.uniform(weight_min, weight_max)\n",
    "            G.add_edge(node, tmp_node, weight=weight)\n",
    "        \n",
    "    return G"
   ]
  },
  {
   "cell_type": "code",
   "execution_count": null,
   "metadata": {
    "collapsed": false,
    "deletable": true,
    "editable": true
   },
   "outputs": [],
   "source": [
    "G = generate_low_degree_g()\n",
    "max_degree = max(G.degree, key=lambda d: d[1])[1]\n",
    "min_degree = min(G.degree, key=lambda d: d[1])[1]\n",
    "print(max_degree)\n",
    "print(min_degree)\n",
    "print(G.number_of_nodes())\n",
    "print(G.number_of_edges())\n",
    "plot_g(G)"
   ]
  },
  {
   "cell_type": "code",
   "execution_count": null,
   "metadata": {
    "collapsed": false,
    "deletable": true,
    "editable": true
   },
   "outputs": [],
   "source": [
    "def traverse_g_helper(layer_2_layer_dict, G, parent_node, cur_node, step, depth):\n",
    "    \n",
    "    if step > depth:\n",
    "        return\n",
    "    \n",
    "    layer_2_layer_dict[step-1][(parent_node, cur_node)] = \\\n",
    "                        filter(lambda edge: edge[1] != parent_node, G.edges(cur_node))\n",
    "        \n",
    "    for edge in G.edges(cur_node):\n",
    "        \n",
    "        neighbor = edge[1]\n",
    "        if neighbor == parent_node:\n",
    "            continue\n",
    "        \n",
    "#         print('Step %d: from %d to %d' % (step, cur_node, neighbor))\n",
    "        traverse_g_helper(layer_2_layer_dict, G, cur_node, neighbor, step+1, depth)\n",
    "    \n",
    "def traverse_g(G, src, parent_node=-1, depth=3):\n",
    "    \n",
    "    layer_2_layer_dict = [dict() for _ in range(depth)]\n",
    "    traverse_g_helper(layer_2_layer_dict, G, parent_node, src, 1, depth)\n",
    "    \n",
    "    return layer_2_layer_dict"
   ]
  },
  {
   "cell_type": "code",
   "execution_count": null,
   "metadata": {
    "collapsed": false,
    "deletable": true,
    "editable": true
   },
   "outputs": [],
   "source": [
    "DST_NEIGHBOR_LAYERS = generate_dst_neighbor_layers(G)\n",
    "PAIR_NEIGHBOR_LAYERS = generate_pair_neighbor_layers(G)"
   ]
  },
  {
   "cell_type": "code",
   "execution_count": null,
   "metadata": {
    "collapsed": false,
    "scrolled": true
   },
   "outputs": [],
   "source": [
    "DST_NEIGHBOR_LAYERS"
   ]
  },
  {
   "cell_type": "code",
   "execution_count": null,
   "metadata": {
    "collapsed": false
   },
   "outputs": [],
   "source": [
    "G.get_edge_data(0,2)"
   ]
  },
  {
   "cell_type": "code",
   "execution_count": null,
   "metadata": {
    "collapsed": false,
    "deletable": true,
    "editable": true,
    "scrolled": true
   },
   "outputs": [],
   "source": [
    "def encode_layers(G, layers, depth=3):\n",
    "    \n",
    "    assert type(layers) is list and len(layers) == depth\n",
    "    ret = [ np.ones(max_out_degree ** (i+1)) for i in range(depth)]\n",
    "    \n",
    "    for layer in range(depth):\n",
    "        \n",
    "        assert type(layers[layer]) is dict\n",
    "        \n",
    "        idx = 0\n",
    "        \n",
    "        for _, edge_list in layers[layer].items():\n",
    "            \n",
    "            assert type(edge_list) is list\n",
    "            \n",
    "            for edge in edge_list:\n",
    "                ret[layer][idx] = G.get_edge_data(edge[0], edge[1])['weight']\n",
    "                idx += 1\n",
    "        \n",
    "    return reduce(lambda x, y: np.hstack([x, y]), ret)\n",
    "\n",
    "def encode_sample(G, start, end, dst, depth=3):\n",
    "    \n",
    "    dst_layers_encoded = encode_layers(G, DST_NEIGHBOR_LAYERS[dst])\n",
    "    edge_layers_encoded = encode_layers(G, PAIR_NEIGHBOR_LAYERS[(start, end)])\n",
    "    return np.hstack([edge_layers_encoded, dst_layers_encoded])\n",
    "\n",
    "X = []\n",
    "y = []\n",
    "\n",
    "for paths in nx.all_pairs_dijkstra_path(G):\n",
    "    print(\"src :%d\" % paths[0])\n",
    "    print(paths[1])\n",
    "    print('')\n",
    "    src = paths[0]\n",
    "    for dst, path in paths[1].items():\n",
    "        \n",
    "        if dst == src:\n",
    "            continue\n",
    "            \n",
    "        # X = cur_node + dst_node\n",
    "        # y = next_node (Dijkstra)\n",
    "        \n",
    "        cur_node = src\n",
    "        for mid_node in path[1:]:\n",
    "            \n",
    "            print('X:(%d, %d), y:(%d)' % (cur_node, dst, mid_node))\n",
    "            X.append(encode_sample(G, cur_node, mid_node, dst))\n",
    "            y.append(0)\n",
    "            \n",
    "            cur_node = mid_node\n",
    "            \n",
    "            # Retrieve edge(cur_node, mid_node) || dst\n",
    "            \n",
    "#         print(cur_node, dst)\n",
    "        print(path)\n",
    "        print('')"
   ]
  },
  {
   "cell_type": "code",
   "execution_count": null,
   "metadata": {
    "collapsed": false
   },
   "outputs": [],
   "source": [
    "X = np.array(X)\n",
    "y = np.array(y)\n",
    "\n",
    "print(X.shape)\n",
    "print(y.shape)"
   ]
  },
  {
   "cell_type": "code",
   "execution_count": null,
   "metadata": {
    "collapsed": false
   },
   "outputs": [],
   "source": [
    "X[0]"
   ]
  },
  {
   "cell_type": "code",
   "execution_count": null,
   "metadata": {
    "collapsed": false,
    "deletable": true,
    "editable": true
   },
   "outputs": [],
   "source": [
    "def generate_dst_neighbor_layers(G, depth=3):\n",
    "    \n",
    "    ret = dict()\n",
    "    for node in G.nodes:\n",
    "        ret[node] = traverse_g(G, node, parent_node=-1, depth=depth)\n",
    "    \n",
    "    return ret\n",
    "\n",
    "def generate_pair_neighbor_layers(G, depth=3):\n",
    "    \n",
    "    ret = dict()\n",
    "    for edge in G.edges:\n",
    "        ret[(edge[0], edge[1])] = traverse_g(G, edge[1], parent_node=edge[0], depth=depth)\n",
    "        ret[(edge[1], edge[0])] = traverse_g(G, edge[0], parent_node=edge[1], depth=depth)\n",
    "    \n",
    "    return ret\n",
    "\n",
    "def generate_dataset(G, depth=3):\n",
    "    \n",
    "    pass"
   ]
  }
 ],
 "metadata": {
  "kernelspec": {
   "display_name": "Python 2",
   "language": "python",
   "name": "python2"
  },
  "language_info": {
   "codemirror_mode": {
    "name": "ipython",
    "version": 2
   },
   "file_extension": ".py",
   "mimetype": "text/x-python",
   "name": "python",
   "nbconvert_exporter": "python",
   "pygments_lexer": "ipython2",
   "version": "2.7.14"
  }
 },
 "nbformat": 4,
 "nbformat_minor": 2
}
