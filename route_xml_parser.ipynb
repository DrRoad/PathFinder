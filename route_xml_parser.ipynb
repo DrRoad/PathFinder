{
 "cells": [
  {
   "cell_type": "code",
   "execution_count": 1,
   "metadata": {
    "collapsed": false,
    "deletable": true,
    "editable": true
   },
   "outputs": [],
   "source": [
    "using LibExpat"
   ]
  },
  {
   "cell_type": "markdown",
   "metadata": {},
   "source": [
    "### Read and parse the XML file"
   ]
  },
  {
   "cell_type": "code",
   "execution_count": 8,
   "metadata": {
    "collapsed": false,
    "deletable": true,
    "editable": true,
    "scrolled": true
   },
   "outputs": [],
   "source": [
    "route_xml_path = \"/Users/hitmann47/Desktop/osm_maps/map.rou.xml\"\n",
    "\n",
    "xml_str = readstring(route_xml_path);\n",
    "etree = xp_parse(xml_str);\n",
    "\n",
    "routes = filter(e -> typeof(e) == LibExpat.ETree, etree.elements)\n",
    "routes = map(route -> filter(e -> typeof(e) == LibExpat.ETree, route.elements)[1], routes);"
   ]
  },
  {
   "cell_type": "code",
   "execution_count": 87,
   "metadata": {
    "collapsed": false,
    "deletable": true,
    "editable": true
   },
   "outputs": [
    {
     "data": {
      "text/plain": [
       "parse_each_egde_str (generic function with 1 method)"
      ]
     },
     "execution_count": 87,
     "metadata": {},
     "output_type": "execute_result"
    }
   ],
   "source": [
    "function parse_each_egde_str(edge_str)\n",
    "    \n",
    "    sign = '+'\n",
    "    edge_id_start = 1\n",
    "    \n",
    "    if edge_str[1] == '-'\n",
    "        sign = '-'\n",
    "        edge_id_start = 2\n",
    "    end\n",
    "    \n",
    "    hashtag_idx = find(d -> d == '#', edge_str)\n",
    "    if length(hashtag_idx) != 0\n",
    "        edge_id_end = hashtag_idx[1]\n",
    "    else\n",
    "        edge_id_end = length(edge_str)\n",
    "    end\n",
    "\n",
    "    return (sign, parse(edge_str[edge_id_start:edge_id_end]), parse(edge_str[edge_id_end+1:end]))\n",
    "end"
   ]
  },
  {
   "cell_type": "markdown",
   "metadata": {},
   "source": [
    "### Extract all routes"
   ]
  },
  {
   "cell_type": "code",
   "execution_count": 100,
   "metadata": {
    "collapsed": false,
    "deletable": true,
    "editable": true,
    "scrolled": true
   },
   "outputs": [],
   "source": [
    "paths = map(route -> map(s -> parse_each_egde_str(s), split(route.attr[\"edges\"], \" \")), routes);"
   ]
  },
  {
   "cell_type": "markdown",
   "metadata": {},
   "source": [
    "### Turn all route edges into nodes"
   ]
  },
  {
   "cell_type": "code",
   "execution_count": null,
   "metadata": {
    "collapsed": true,
    "deletable": true,
    "editable": true
   },
   "outputs": [],
   "source": []
  }
 ],
 "metadata": {
  "kernelspec": {
   "display_name": "Julia 0.6.2",
   "language": "julia",
   "name": "julia-0.6"
  },
  "language_info": {
   "file_extension": ".jl",
   "mimetype": "application/julia",
   "name": "julia",
   "version": "0.6.2"
  }
 },
 "nbformat": 4,
 "nbformat_minor": 2
}
